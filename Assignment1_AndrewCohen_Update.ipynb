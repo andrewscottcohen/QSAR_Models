{
 "cells": [
  {
   "cell_type": "markdown",
   "id": "reduced-popularity",
   "metadata": {},
   "source": [
    "# Assignment 1: Chemoinformatics - Andrew Cohen\n",
    "### Exploring a few different machine learning models through predicting the band gap energy of molecules from their molecular structure"
   ]
  },
  {
   "cell_type": "code",
   "execution_count": 2,
   "id": "distinct-schedule",
   "metadata": {},
   "outputs": [],
   "source": [
    "#ALL OF THE IMPORTS!!\n",
    "%matplotlib inline\n",
    "from matplotlib import pyplot as plt\n",
    "from sklearn.pipeline import Pipeline\n",
    "from sklearn.preprocessing import StandardScaler\n",
    "from sklearn.decomposition import PCA\n",
    "from sklearn.model_selection import train_test_split\n",
    "from sklearn.linear_model import LassoCV\n",
    "from sklearn.metrics import r2_score, mean_absolute_error\n",
    "from mordred import Calculator, descriptors\n",
    "from rdkit import Chem\n",
    "import pandas as pd\n",
    "import numpy as np\n",
    "from sklearn.ensemble import RandomForestRegressor\n",
    "from sklearn.neighbors import KNeighborsRegressor\n",
    "from sklearn.base import BaseEstimator, TransformerMixin\n",
    "from rdkit import DataStructs\n",
    "from rdkit.Chem import AllChem\n",
    "from tqdm import tqdm\n",
    "from sklearn.feature_selection import RFE\n",
    "from sklearn.ensemble import RandomForestClassifier\n",
    "from sklearn import preprocessing"
   ]
  },
  {
   "cell_type": "markdown",
   "id": "played-folks",
   "metadata": {},
   "source": [
    "Process Molecule Data from **QM9**"
   ]
  },
  {
   "cell_type": "code",
   "execution_count": 3,
   "id": "ordinary-conclusion",
   "metadata": {},
   "outputs": [
    {
     "name": "stdout",
     "output_type": "stream",
     "text": [
      "Loaded 25000 molecules\n"
     ]
    }
   ],
   "source": [
    "#Load molecules from QM9 Database\n",
    "data = pd.read_json('C:/Users/ascoh/Desktop/UChicago/Academics/2020-21/Q2 2021/AI for MatSci/qm9.json.gz', lines=True)\n",
    "print(f'Loaded {len(data)} molecules')"
   ]
  },
  {
   "cell_type": "code",
   "execution_count": 4,
   "id": "fuzzy-germany",
   "metadata": {},
   "outputs": [],
   "source": [
    "#Parse QM9 data into RDKit Objects\n",
    "data['mol'] = data['smiles_0'].apply(Chem.MolFromSmiles)"
   ]
  },
  {
   "cell_type": "markdown",
   "id": "urban-stick",
   "metadata": {},
   "source": [
    "**Mordred** Calculator/Descriptor"
   ]
  },
  {
   "cell_type": "code",
   "execution_count": 5,
   "id": "applied-clothing",
   "metadata": {},
   "outputs": [],
   "source": [
    "#Initiate Mordred Descriptor Calculator\n",
    "calc = Calculator(descriptors, ignore_3D=True)"
   ]
  },
  {
   "cell_type": "code",
   "execution_count": 6,
   "id": "charming-package",
   "metadata": {},
   "outputs": [
    {
     "name": "stderr",
     "output_type": "stream",
     "text": [
      "100%|████████████████████████████████████████████████████████████████████████████| 25000/25000 [14:13<00:00, 29.28it/s]\n"
     ]
    },
    {
     "name": "stdout",
     "output_type": "stream",
     "text": [
      "Computed 1613 descriptors for 25000 molecules\n"
     ]
    }
   ],
   "source": [
    "#Compute Mordred Descriptors for QM9 Molecules and save into Panda df\n",
    "desc = calc.pandas(data['mol'])\n",
    "print(f'Computed {len(desc.columns)} descriptors for {len(desc)} molecules')"
   ]
  },
  {
   "cell_type": "markdown",
   "id": "devoted-specification",
   "metadata": {},
   "source": [
    "Reducing Dimensionality of Desc"
   ]
  },
  {
   "cell_type": "code",
   "execution_count": 7,
   "id": "static-equity",
   "metadata": {},
   "outputs": [
    {
     "name": "stdout",
     "output_type": "stream",
     "text": [
      "Found 546 columns with missing values\n",
      "New shape: (25000, 1067)\n"
     ]
    },
    {
     "data": {
      "text/plain": [
       "ABC         float64\n",
       "ABCGG       float64\n",
       "nAcid       float64\n",
       "nBase       float64\n",
       "SpAbs_A     float64\n",
       "             ...   \n",
       "WPath       float64\n",
       "WPol        float64\n",
       "Zagreb1     float64\n",
       "Zagreb2     float64\n",
       "mZagreb2    float64\n",
       "Length: 1067, dtype: object"
      ]
     },
     "execution_count": 7,
     "metadata": {},
     "output_type": "execute_result"
    }
   ],
   "source": [
    "#Removing Null Data from Desc DF and converting to Float64                           \n",
    "\n",
    "for c in desc.columns:\n",
    "    desc[c] = pd.to_numeric(desc[c], errors='coerce')\n",
    "\n",
    "missing_values = desc.isnull().any() #Identify all rows with missing values in desc\n",
    "print(f'Found {missing_values.sum()} columns with missing values')\n",
    "\n",
    "desc = desc.loc[:, ~missing_values]  # Gets only rows that do not (~ means not) have missing values\n",
    "print(f'New shape: {desc.shape}')\n",
    "\n",
    "\n",
    "desc.astype('float64').dtypes #Convert Desc df to all floats"
   ]
  },
  {
   "cell_type": "code",
   "execution_count": 8,
   "id": "welsh-convert",
   "metadata": {},
   "outputs": [
    {
     "data": {
      "text/html": [
       "<div>\n",
       "<style scoped>\n",
       "    .dataframe tbody tr th:only-of-type {\n",
       "        vertical-align: middle;\n",
       "    }\n",
       "\n",
       "    .dataframe tbody tr th {\n",
       "        vertical-align: top;\n",
       "    }\n",
       "\n",
       "    .dataframe thead th {\n",
       "        text-align: right;\n",
       "    }\n",
       "</style>\n",
       "<table border=\"1\" class=\"dataframe\">\n",
       "  <thead>\n",
       "    <tr style=\"text-align: right;\">\n",
       "      <th></th>\n",
       "      <th>AATSC2pe</th>\n",
       "      <th>ATSC2dv</th>\n",
       "      <th>LogEE_Dzv</th>\n",
       "      <th>AATS0se</th>\n",
       "      <th>ATSC4pe</th>\n",
       "    </tr>\n",
       "  </thead>\n",
       "  <tbody>\n",
       "    <tr>\n",
       "      <th>count</th>\n",
       "      <td>25000.000000</td>\n",
       "      <td>25000.000000</td>\n",
       "      <td>25000.000000</td>\n",
       "      <td>25000.000000</td>\n",
       "      <td>25000.000000</td>\n",
       "    </tr>\n",
       "    <tr>\n",
       "      <th>mean</th>\n",
       "      <td>-0.002400</td>\n",
       "      <td>-8.980160</td>\n",
       "      <td>19.172283</td>\n",
       "      <td>7.788579</td>\n",
       "      <td>-0.480245</td>\n",
       "    </tr>\n",
       "    <tr>\n",
       "      <th>std</th>\n",
       "      <td>0.026068</td>\n",
       "      <td>16.973053</td>\n",
       "      <td>3.249823</td>\n",
       "      <td>0.441260</td>\n",
       "      <td>0.884661</td>\n",
       "    </tr>\n",
       "    <tr>\n",
       "      <th>min</th>\n",
       "      <td>-0.116386</td>\n",
       "      <td>-64.000000</td>\n",
       "      <td>0.546177</td>\n",
       "      <td>6.923977</td>\n",
       "      <td>-10.138842</td>\n",
       "    </tr>\n",
       "    <tr>\n",
       "      <th>25%</th>\n",
       "      <td>-0.016067</td>\n",
       "      <td>-20.205746</td>\n",
       "      <td>17.215982</td>\n",
       "      <td>7.495503</td>\n",
       "      <td>-0.974112</td>\n",
       "    </tr>\n",
       "    <tr>\n",
       "      <th>50%</th>\n",
       "      <td>-0.004065</td>\n",
       "      <td>-10.942766</td>\n",
       "      <td>18.941687</td>\n",
       "      <td>7.719562</td>\n",
       "      <td>-0.403839</td>\n",
       "    </tr>\n",
       "    <tr>\n",
       "      <th>75%</th>\n",
       "      <td>0.007353</td>\n",
       "      <td>0.181761</td>\n",
       "      <td>21.005767</td>\n",
       "      <td>8.025415</td>\n",
       "      <td>0.051147</td>\n",
       "    </tr>\n",
       "    <tr>\n",
       "      <th>max</th>\n",
       "      <td>0.323606</td>\n",
       "      <td>104.750000</td>\n",
       "      <td>34.753983</td>\n",
       "      <td>12.213778</td>\n",
       "      <td>4.330262</td>\n",
       "    </tr>\n",
       "  </tbody>\n",
       "</table>\n",
       "</div>"
      ],
      "text/plain": [
       "           AATSC2pe       ATSC2dv     LogEE_Dzv       AATS0se       ATSC4pe\n",
       "count  25000.000000  25000.000000  25000.000000  25000.000000  25000.000000\n",
       "mean      -0.002400     -8.980160     19.172283      7.788579     -0.480245\n",
       "std        0.026068     16.973053      3.249823      0.441260      0.884661\n",
       "min       -0.116386    -64.000000      0.546177      6.923977    -10.138842\n",
       "25%       -0.016067    -20.205746     17.215982      7.495503     -0.974112\n",
       "50%       -0.004065    -10.942766     18.941687      7.719562     -0.403839\n",
       "75%        0.007353      0.181761     21.005767      8.025415      0.051147\n",
       "max        0.323606    104.750000     34.753983     12.213778      4.330262"
      ]
     },
     "execution_count": 8,
     "metadata": {},
     "output_type": "execute_result"
    }
   ],
   "source": [
    "desc.sample(5, axis=1).describe()"
   ]
  },
  {
   "cell_type": "code",
   "execution_count": 9,
   "id": "massive-dominican",
   "metadata": {},
   "outputs": [],
   "source": [
    "#Scale the Data to Prevent Wild Variation in Data\n",
    "scaler = StandardScaler()\n",
    "feats = scaler.fit_transform(desc)"
   ]
  },
  {
   "cell_type": "markdown",
   "id": "looking-tragedy",
   "metadata": {},
   "source": [
    "Create a test set of 2000 moleculues. Train a **LassoCV model** using the features with and without reducing the dimensionality to **8 features** using **PCA**"
   ]
  },
  {
   "cell_type": "code",
   "execution_count": 10,
   "id": "virgin-anaheim",
   "metadata": {},
   "outputs": [],
   "source": [
    "train_data, test_data, train_desc, test_desc = train_test_split(data, desc, test_size=0.08)"
   ]
  },
  {
   "cell_type": "code",
   "execution_count": 11,
   "id": "dried-tradition",
   "metadata": {},
   "outputs": [
    {
     "name": "stderr",
     "output_type": "stream",
     "text": [
      "C:\\Users\\ascoh\\Anaconda3\\envs\\molml\\lib\\site-packages\\sklearn\\linear_model\\_coordinate_descent.py:527: ConvergenceWarning: Objective did not converge. You might want to increase the number of iterations. Duality gap: 0.005052284916036598, tolerance: 0.004087048508789349\n",
      "  tol, rng, random, positive)\n",
      "C:\\Users\\ascoh\\Anaconda3\\envs\\molml\\lib\\site-packages\\sklearn\\linear_model\\_coordinate_descent.py:527: ConvergenceWarning: Objective did not converge. You might want to increase the number of iterations. Duality gap: 0.008250639126693216, tolerance: 0.004087048508789349\n",
      "  tol, rng, random, positive)\n",
      "C:\\Users\\ascoh\\Anaconda3\\envs\\molml\\lib\\site-packages\\sklearn\\linear_model\\_coordinate_descent.py:527: ConvergenceWarning: Objective did not converge. You might want to increase the number of iterations. Duality gap: 0.0062727193184537455, tolerance: 0.004089932172212174\n",
      "  tol, rng, random, positive)\n",
      "C:\\Users\\ascoh\\Anaconda3\\envs\\molml\\lib\\site-packages\\sklearn\\linear_model\\_coordinate_descent.py:527: ConvergenceWarning: Objective did not converge. You might want to increase the number of iterations. Duality gap: 0.006631003724131723, tolerance: 0.004111114572999783\n",
      "  tol, rng, random, positive)\n",
      "C:\\Users\\ascoh\\Anaconda3\\envs\\molml\\lib\\site-packages\\sklearn\\linear_model\\_coordinate_descent.py:527: ConvergenceWarning: Objective did not converge. You might want to increase the number of iterations. Duality gap: 0.007941005422228642, tolerance: 0.004059386358152174\n",
      "  tol, rng, random, positive)\n",
      "C:\\Users\\ascoh\\Anaconda3\\envs\\molml\\lib\\site-packages\\sklearn\\linear_model\\_coordinate_descent.py:531: ConvergenceWarning: Objective did not converge. You might want to increase the number of iterations. Duality gap: 0.6024410017243333, tolerance: 0.005105757952365219\n",
      "  positive)\n"
     ]
    }
   ],
   "source": [
    "#Create the Lasso w/out PCA Pipeline\n",
    "no_pca_model = Pipeline([\n",
    "    ('scale', StandardScaler()),\n",
    "    ('lasso', LassoCV())\n",
    "])\n",
    "\n",
    "test_data = test_data.copy()  # Avoids some pandas issues\n",
    "test_data['no_pca-model'] = no_pca_model.fit(train_desc, train_data['bandgap']).predict(test_desc)"
   ]
  },
  {
   "cell_type": "code",
   "execution_count": 12,
   "id": "negative-summit",
   "metadata": {},
   "outputs": [],
   "source": [
    "#Create the Lasso w/ PCA Pipeline\n",
    "pca_model = Pipeline([\n",
    "    ('scale', StandardScaler()),\n",
    "    ('pca', PCA(n_components=8)),\n",
    "    ('lasso', LassoCV())\n",
    "])\n",
    "\n",
    "test_data['pca-model'] = pca_model.fit(train_desc, train_data['bandgap']).predict(test_desc)\n",
    "#No Convergence Issues"
   ]
  },
  {
   "cell_type": "code",
   "execution_count": 13,
   "id": "stunning-barrel",
   "metadata": {},
   "outputs": [
    {
     "data": {
      "image/png": "[encoded data removed]",
      "text/plain": [
       "<Figure size 468x216 with 2 Axes>"
      ]
     },
     "metadata": {
      "needs_background": "light"
     },
     "output_type": "display_data"
    }
   ],
   "source": [
    "#Plotting the Lasso model w/ and w/out PCA reduction\n",
    "fig, axs = plt.subplots(1, 2, sharey=True, figsize=(6.5, 3.))\n",
    "\n",
    "# Plot both models\n",
    "for ax, col in zip(axs, ['no_pca-model', 'pca-model']):\n",
    "    ax.set_title(f'{col.split(\"-\")[0]}-Parameter Model')\n",
    "    r2 = r2_score(test_data[col], test_data['bandgap'])\n",
    "    ax.text(0.02, 0.9, f'$R^2 = {r2:.2f}$', transform=ax.transAxes)\n",
    "    ax.scatter(test_data[col], test_data['bandgap'])\n",
    "    \n",
    "for ax in axs:\n",
    "    ax.set_xlabel('$E_g$, ML')\n",
    "    \n",
    "    ax.set_ylim(ax.get_ylim())\n",
    "    ax.set_xlim(ax.get_ylim())\n",
    "    ax.plot(ax.get_xlim(), ax.get_xlim(), 'k--')\n",
    "    \n",
    "axs[0].set_ylabel('$E_g$, True')\n",
    "fig.tight_layout()"
   ]
  },
  {
   "cell_type": "markdown",
   "id": "senior-template",
   "metadata": {
    "scrolled": true
   },
   "source": [
    "Train a RandomForest model using the default settings. Plot the change in mean absolute error (MAE) with respect to training set sizes: 10, 100, 1000, 10000 "
   ]
  },
  {
   "cell_type": "code",
   "execution_count": 14,
   "id": "coastal-things",
   "metadata": {},
   "outputs": [
    {
     "name": "stderr",
     "output_type": "stream",
     "text": [
      "100%|███████████████████████████████████████████████████████████████████████████████████| 4/4 [08:36<00:00, 129.12s/it]\n"
     ]
    }
   ],
   "source": [
    "#RANDOM FOREST\n",
    "# Instantiate model with 100 decision trees\n",
    "rf = RandomForestRegressor(n_estimators = 100, random_state = 0, n_jobs=-1)\n",
    "# Train the model on training data\n",
    "rf_train_data, rf_test_data, rf_train_desc, rf_test_desc = train_test_split(data, desc)\n",
    "results=[]\n",
    "\n",
    "for i in tqdm((10, 100, 1000, 10000)): #Cycle through the differet training set sizes\n",
    "    rf_subset_desc = rf_train_desc.sample(i)\n",
    "    rf_subset_data = rf_train_data.sample(i)\n",
    "    rf.fit(rf_subset_desc, rf_subset_data['bandgap'])\n",
    "    rf_pred=rf.predict(rf_test_desc);\n",
    "    results.append({\n",
    "                'train_size': i,\n",
    "                'mae': mean_absolute_error(rf_test_data['bandgap'], rf_pred)\n",
    "            })\n",
    "results = pd.DataFrame(results)"
   ]
  },
  {
   "cell_type": "code",
   "execution_count": 15,
   "id": "sophisticated-sunrise",
   "metadata": {},
   "outputs": [
    {
     "data": {
      "image/png": "[encoded data removed]",
      "text/plain": [
       "<Figure size 432x288 with 1 Axes>"
      ]
     },
     "metadata": {
      "needs_background": "light"
     },
     "output_type": "display_data"
    }
   ],
   "source": [
    "#Plot the RandomForest Model: Training Set Size vs. MAE\n",
    "fig, ax = plt.subplots()\n",
    "\n",
    "ax.plot(results['train_size'],results['mae'], 'o--')\n",
    "ax.set_ylabel('MAE')\n",
    "ax.set_xlabel('Training Set Size')\n",
    "ax.set_title('Random Forest Model: MAE as a Function of Training Set Size')\n",
    "\n",
    "ax.grid(True)\n",
    "fig.tight_layout()"
   ]
  },
  {
   "cell_type": "markdown",
   "id": "demonstrated-finder",
   "metadata": {},
   "source": [
    "## Q1-1\n",
    "\n",
    "*How do the results compare?*\n",
    "\n",
    "As seen in the graph above, while the MAE begins at about 0.041 (set=10 molecules), it quickly rises to 0.045 upon increasing the training set to 100.As the training set is increased beyond 100 molecules, the MAE linearly decreases.\n",
    "\n",
    "\n",
    "*Why do some models continue to improve at large training set sizes while others do not?*\n",
    "\n",
    "Models improve or decline in performance as the training set size increases due to the nature of the model. RandomForest improves as training sets become larger because they perform bootstrapping. Bootstrapping is a method where the model splits the training data into multiple bagged decision trees. The final prediction of the model is an average of the results of these various trees. Having a small number of trees often leads to overfitting. Thus, by increasing the data set the model is able to produce more trees and produce more accurate preditions that can match the complexisty of the system being studied.\n",
    "\n",
    "A Lasso Model with improper feature selection can lead to overfitting of the data or skews in the model due to outliers. In the lasso model above there is a drastic decrease in the R<sup>2</sup> value when PCA is applied. This is likely because the PCA feature selection reduces the features available to the model to such a degree that lasso can no longer generate an accurate prediction.\n",
    "\n",
    "It should be noted that both models performed well on small data sets.\n",
    "\n",
    "With all maching learning models it is important to tune the hyperparameters and apply the proper feature selection in order to optimize model performance. Too much or not enough data results in a poor model.\n",
    "\n",
    "---"
   ]
  },
  {
   "cell_type": "markdown",
   "id": "relevant-voluntary",
   "metadata": {},
   "source": [
    "Train the **LASSO** without PCA (using coefficients) and **RandomForest** models (using the assigned feature scores) on **10<sup>4</sup> data points**"
   ]
  },
  {
   "cell_type": "code",
   "execution_count": 16,
   "id": "alone-marijuana",
   "metadata": {},
   "outputs": [
    {
     "name": "stderr",
     "output_type": "stream",
     "text": [
      "C:\\Users\\ascoh\\Anaconda3\\envs\\molml\\lib\\site-packages\\sklearn\\linear_model\\_coordinate_descent.py:527: ConvergenceWarning: Objective did not converge. You might want to increase the number of iterations. Duality gap: 0.0022407190142086364, tolerance: 0.0017715065568875003\n",
      "  tol, rng, random, positive)\n",
      "C:\\Users\\ascoh\\Anaconda3\\envs\\molml\\lib\\site-packages\\sklearn\\linear_model\\_coordinate_descent.py:527: ConvergenceWarning: Objective did not converge. You might want to increase the number of iterations. Duality gap: 0.0020647293395827937, tolerance: 0.0017715065568875003\n",
      "  tol, rng, random, positive)\n",
      "C:\\Users\\ascoh\\Anaconda3\\envs\\molml\\lib\\site-packages\\sklearn\\linear_model\\_coordinate_descent.py:527: ConvergenceWarning: Objective did not converge. You might want to increase the number of iterations. Duality gap: 0.00241789350753141, tolerance: 0.0017715065568875003\n",
      "  tol, rng, random, positive)\n",
      "C:\\Users\\ascoh\\Anaconda3\\envs\\molml\\lib\\site-packages\\sklearn\\linear_model\\_coordinate_descent.py:527: ConvergenceWarning: Objective did not converge. You might want to increase the number of iterations. Duality gap: 0.002854882883831067, tolerance: 0.0017715065568875003\n",
      "  tol, rng, random, positive)\n",
      "C:\\Users\\ascoh\\Anaconda3\\envs\\molml\\lib\\site-packages\\sklearn\\linear_model\\_coordinate_descent.py:527: ConvergenceWarning: Objective did not converge. You might want to increase the number of iterations. Duality gap: 0.0035876600114055357, tolerance: 0.0017715065568875003\n",
      "  tol, rng, random, positive)\n",
      "C:\\Users\\ascoh\\Anaconda3\\envs\\molml\\lib\\site-packages\\sklearn\\linear_model\\_coordinate_descent.py:527: ConvergenceWarning: Objective did not converge. You might want to increase the number of iterations. Duality gap: 0.0037675700760551045, tolerance: 0.0017715065568875003\n",
      "  tol, rng, random, positive)\n",
      "C:\\Users\\ascoh\\Anaconda3\\envs\\molml\\lib\\site-packages\\sklearn\\linear_model\\_coordinate_descent.py:527: ConvergenceWarning: Objective did not converge. You might want to increase the number of iterations. Duality gap: 0.003615693447402979, tolerance: 0.0017715065568875003\n",
      "  tol, rng, random, positive)\n",
      "C:\\Users\\ascoh\\Anaconda3\\envs\\molml\\lib\\site-packages\\sklearn\\linear_model\\_coordinate_descent.py:527: ConvergenceWarning: Objective did not converge. You might want to increase the number of iterations. Duality gap: 0.004428771702738921, tolerance: 0.0017715065568875003\n",
      "  tol, rng, random, positive)\n",
      "C:\\Users\\ascoh\\Anaconda3\\envs\\molml\\lib\\site-packages\\sklearn\\linear_model\\_coordinate_descent.py:527: ConvergenceWarning: Objective did not converge. You might want to increase the number of iterations. Duality gap: 0.00562383818789991, tolerance: 0.0017715065568875003\n",
      "  tol, rng, random, positive)\n",
      "C:\\Users\\ascoh\\Anaconda3\\envs\\molml\\lib\\site-packages\\sklearn\\linear_model\\_coordinate_descent.py:527: ConvergenceWarning: Objective did not converge. You might want to increase the number of iterations. Duality gap: 0.002791474912966496, tolerance: 0.0017695853630000002\n",
      "  tol, rng, random, positive)\n",
      "C:\\Users\\ascoh\\Anaconda3\\envs\\molml\\lib\\site-packages\\sklearn\\linear_model\\_coordinate_descent.py:527: ConvergenceWarning: Objective did not converge. You might want to increase the number of iterations. Duality gap: 0.0028319272000845164, tolerance: 0.0017695853630000002\n",
      "  tol, rng, random, positive)\n",
      "C:\\Users\\ascoh\\Anaconda3\\envs\\molml\\lib\\site-packages\\sklearn\\linear_model\\_coordinate_descent.py:527: ConvergenceWarning: Objective did not converge. You might want to increase the number of iterations. Duality gap: 0.0020384012830696463, tolerance: 0.0017695853630000002\n",
      "  tol, rng, random, positive)\n",
      "C:\\Users\\ascoh\\Anaconda3\\envs\\molml\\lib\\site-packages\\sklearn\\linear_model\\_coordinate_descent.py:527: ConvergenceWarning: Objective did not converge. You might want to increase the number of iterations. Duality gap: 0.003716435823334141, tolerance: 0.0017695853630000002\n",
      "  tol, rng, random, positive)\n",
      "C:\\Users\\ascoh\\Anaconda3\\envs\\molml\\lib\\site-packages\\sklearn\\linear_model\\_coordinate_descent.py:527: ConvergenceWarning: Objective did not converge. You might want to increase the number of iterations. Duality gap: 0.004118509528405978, tolerance: 0.0017695853630000002\n",
      "  tol, rng, random, positive)\n",
      "C:\\Users\\ascoh\\Anaconda3\\envs\\molml\\lib\\site-packages\\sklearn\\linear_model\\_coordinate_descent.py:527: ConvergenceWarning: Objective did not converge. You might want to increase the number of iterations. Duality gap: 0.00208316517390994, tolerance: 0.0017761230393580005\n",
      "  tol, rng, random, positive)\n",
      "C:\\Users\\ascoh\\Anaconda3\\envs\\molml\\lib\\site-packages\\sklearn\\linear_model\\_coordinate_descent.py:527: ConvergenceWarning: Objective did not converge. You might want to increase the number of iterations. Duality gap: 0.004143448042760012, tolerance: 0.0017761230393580005\n",
      "  tol, rng, random, positive)\n",
      "C:\\Users\\ascoh\\Anaconda3\\envs\\molml\\lib\\site-packages\\sklearn\\linear_model\\_coordinate_descent.py:527: ConvergenceWarning: Objective did not converge. You might want to increase the number of iterations. Duality gap: 0.004786049557387706, tolerance: 0.0017761230393580005\n",
      "  tol, rng, random, positive)\n",
      "C:\\Users\\ascoh\\Anaconda3\\envs\\molml\\lib\\site-packages\\sklearn\\linear_model\\_coordinate_descent.py:527: ConvergenceWarning: Objective did not converge. You might want to increase the number of iterations. Duality gap: 0.004972957052107763, tolerance: 0.0017761230393580005\n",
      "  tol, rng, random, positive)\n",
      "C:\\Users\\ascoh\\Anaconda3\\envs\\molml\\lib\\site-packages\\sklearn\\linear_model\\_coordinate_descent.py:527: ConvergenceWarning: Objective did not converge. You might want to increase the number of iterations. Duality gap: 0.004952932264288723, tolerance: 0.0017761230393580005\n",
      "  tol, rng, random, positive)\n",
      "C:\\Users\\ascoh\\Anaconda3\\envs\\molml\\lib\\site-packages\\sklearn\\linear_model\\_coordinate_descent.py:527: ConvergenceWarning: Objective did not converge. You might want to increase the number of iterations. Duality gap: 0.0022567409792546567, tolerance: 0.0017869889913098753\n",
      "  tol, rng, random, positive)\n",
      "C:\\Users\\ascoh\\Anaconda3\\envs\\molml\\lib\\site-packages\\sklearn\\linear_model\\_coordinate_descent.py:527: ConvergenceWarning: Objective did not converge. You might want to increase the number of iterations. Duality gap: 0.0027332156213548675, tolerance: 0.0017869889913098753\n",
      "  tol, rng, random, positive)\n",
      "C:\\Users\\ascoh\\Anaconda3\\envs\\molml\\lib\\site-packages\\sklearn\\linear_model\\_coordinate_descent.py:527: ConvergenceWarning: Objective did not converge. You might want to increase the number of iterations. Duality gap: 0.004272220091015022, tolerance: 0.0017869889913098753\n",
      "  tol, rng, random, positive)\n",
      "C:\\Users\\ascoh\\Anaconda3\\envs\\molml\\lib\\site-packages\\sklearn\\linear_model\\_coordinate_descent.py:527: ConvergenceWarning: Objective did not converge. You might want to increase the number of iterations. Duality gap: 0.0036886305960144306, tolerance: 0.0017869889913098753\n",
      "  tol, rng, random, positive)\n",
      "C:\\Users\\ascoh\\Anaconda3\\envs\\molml\\lib\\site-packages\\sklearn\\linear_model\\_coordinate_descent.py:527: ConvergenceWarning: Objective did not converge. You might want to increase the number of iterations. Duality gap: 0.0034259465036883263, tolerance: 0.0017869889913098753\n",
      "  tol, rng, random, positive)\n",
      "C:\\Users\\ascoh\\Anaconda3\\envs\\molml\\lib\\site-packages\\sklearn\\linear_model\\_coordinate_descent.py:527: ConvergenceWarning: Objective did not converge. You might want to increase the number of iterations. Duality gap: 0.003955064580960954, tolerance: 0.0017869889913098753\n",
      "  tol, rng, random, positive)\n",
      "C:\\Users\\ascoh\\Anaconda3\\envs\\molml\\lib\\site-packages\\sklearn\\linear_model\\_coordinate_descent.py:527: ConvergenceWarning: Objective did not converge. You might want to increase the number of iterations. Duality gap: 0.005997753505019521, tolerance: 0.0017869889913098753\n",
      "  tol, rng, random, positive)\n",
      "C:\\Users\\ascoh\\Anaconda3\\envs\\molml\\lib\\site-packages\\sklearn\\linear_model\\_coordinate_descent.py:527: ConvergenceWarning: Objective did not converge. You might want to increase the number of iterations. Duality gap: 0.0023863697158725827, tolerance: 0.0017638977033748752\n",
      "  tol, rng, random, positive)\n",
      "C:\\Users\\ascoh\\Anaconda3\\envs\\molml\\lib\\site-packages\\sklearn\\linear_model\\_coordinate_descent.py:527: ConvergenceWarning: Objective did not converge. You might want to increase the number of iterations. Duality gap: 0.003825417933409625, tolerance: 0.0017638977033748752\n",
      "  tol, rng, random, positive)\n"
     ]
    },
    {
     "name": "stderr",
     "output_type": "stream",
     "text": [
      "C:\\Users\\ascoh\\Anaconda3\\envs\\molml\\lib\\site-packages\\sklearn\\linear_model\\_coordinate_descent.py:527: ConvergenceWarning: Objective did not converge. You might want to increase the number of iterations. Duality gap: 0.002522822284653614, tolerance: 0.0017638977033748752\n",
      "  tol, rng, random, positive)\n",
      "C:\\Users\\ascoh\\Anaconda3\\envs\\molml\\lib\\site-packages\\sklearn\\linear_model\\_coordinate_descent.py:527: ConvergenceWarning: Objective did not converge. You might want to increase the number of iterations. Duality gap: 0.0028555746584690844, tolerance: 0.0017638977033748752\n",
      "  tol, rng, random, positive)\n",
      "C:\\Users\\ascoh\\Anaconda3\\envs\\molml\\lib\\site-packages\\sklearn\\linear_model\\_coordinate_descent.py:527: ConvergenceWarning: Objective did not converge. You might want to increase the number of iterations. Duality gap: 0.00546766583766467, tolerance: 0.0017638977033748752\n",
      "  tol, rng, random, positive)\n",
      "C:\\Users\\ascoh\\Anaconda3\\envs\\molml\\lib\\site-packages\\sklearn\\linear_model\\_coordinate_descent.py:531: ConvergenceWarning: Objective did not converge. You might want to increase the number of iterations. Duality gap: 0.2984771107635811, tolerance: 0.0022170448464944002\n",
      "  positive)\n"
     ]
    }
   ],
   "source": [
    "#Training a New Lasso w/out PCA model and a new RF model on 10^4 molecules\n",
    "train_data, test_data, train_desc, test_desc = train_test_split(data, desc)\n",
    "train_data = train_data.sample(10000)\n",
    "#Lasso\n",
    "no_pca_model_2 = Pipeline([\n",
    "    ('scale', StandardScaler()),\n",
    "    ('lasso', LassoCV())\n",
    "])\n",
    "\n",
    "test_data = test_data.copy()  # Avoids some pandas issues\n",
    "test_data['no-pca-model-2'] = no_pca_model_2.fit(train_desc, train_data['bandgap']).predict(test_desc)\n",
    "\n",
    "#RF\n",
    "results2=[]\n",
    "rf_subset_desc = train_desc\n",
    "rf_subset_data = train_data\n",
    "rf.fit(train_desc, train_data['bandgap'])\n",
    "rf_pred=rf.predict(test_desc);\n",
    "results2.append({\n",
    "                'iteration': 1,\n",
    "                'mae': mean_absolute_error(test_data['bandgap'], rf_pred)\n",
    "            })\n",
    "results2 = pd.DataFrame(results)"
   ]
  },
  {
   "cell_type": "markdown",
   "id": "thirty-lawyer",
   "metadata": {},
   "source": [
    "Rank the **top features** for random forest and LASSO"
   ]
  },
  {
   "cell_type": "code",
   "execution_count": 17,
   "id": "pretty-greene",
   "metadata": {},
   "outputs": [],
   "source": [
    "#Use np.argsort to obtain the indices of the top features for the Lasso and RF models\n",
    "#Trained on 10^4 Moleules\n",
    "lasso_feats = np.argsort(no_pca_model_2['lasso'].coef_)\n",
    "rf_feats = np.argsort(rf.feature_importances_)"
   ]
  },
  {
   "cell_type": "code",
   "execution_count": 18,
   "id": "incredible-renaissance",
   "metadata": {},
   "outputs": [
    {
     "name": "stdout",
     "output_type": "stream",
     "text": [
      "0 shared features\n"
     ]
    }
   ],
   "source": [
    "#Use python set logic to get the feature intersection\n",
    "same_feats = set(lasso_feats[-10:]).intersection(rf_feats[-10:]) #Intersection Between the Top Ten Features\n",
    "print(f'{len(same_feats)} shared features')"
   ]
  },
  {
   "cell_type": "code",
   "execution_count": 19,
   "id": "chronic-grocery",
   "metadata": {},
   "outputs": [
    {
     "name": "stdout",
     "output_type": "stream",
     "text": [
      "Largest Correlation: 0.89\n"
     ]
    }
   ],
   "source": [
    "#Calculate RF Correlation\n",
    "rf_corr = np.abs(\n",
    "    np.corrcoef(\n",
    "        train_desc.iloc[:, rf_feats[-10:]].T\n",
    "    )\n",
    ")\n",
    "print(f'Largest Correlation: {np.max(np.triu(rf_corr, k=1)):.2f}')"
   ]
  },
  {
   "cell_type": "code",
   "execution_count": 20,
   "id": "jewish-cross",
   "metadata": {},
   "outputs": [
    {
     "name": "stdout",
     "output_type": "stream",
     "text": [
      "Largest Correlation: 1.00\n"
     ]
    }
   ],
   "source": [
    "#Calculate Lasso Correlation\n",
    "lasso_corr = np.abs(\n",
    "    np.corrcoef(\n",
    "        train_desc.iloc[:, lasso_feats[-10:]].T\n",
    "    )\n",
    ")\n",
    "print(f'Largest Correlation: {np.max(np.triu(lasso_corr, k=1)):.2f}')"
   ]
  },
  {
   "cell_type": "markdown",
   "id": "necessary-maple",
   "metadata": {},
   "source": [
    "## Q1-2\n",
    "\n",
    "1. ***Compare the top 10 features** with random forest and Lasso (Hint: Python set logic.). Are any the same? Why is this expected?*\n",
    "\n",
    "There are very few (1) shared features between Lasso and RandomForest. This is understandble because the LassoCV model explicitly develops the model to only account for features with the highest correlation with the data. RandomForest does not perform this linear data selection thus any features they have in common is likely due to statistical variation.\n",
    "\n",
    "2. *Assess the **correlation** between. What does this imply about how to interpret the most important features?*\n",
    "\n",
    "The top variables for both models are heavily correlated - the Lasso model features, however, present a stronger correlation. This indicates that the LassoCV model weights the importance of top features very heavily in crafting its prediction. Looked at another way, it can be seen as evidence that the Lasso model chooses features with high correlations to weight heavily.\n",
    "\n",
    "3. *Run the **test twice** for one of the models. Do the results change between runs?\n",
    "    I will be running the Random Forest Model a second time and comparing the resultant MAE and Correlations.*\n",
    "    \n",
    "The results of the MAE did not change inbetween runs. The correlations did change slightly with RandomForest correlation rising by 0.02 points but the Lasso correlation not changing at all. Additionaly, on the second run the shared features changed from 1 to 0. These results indicate the feature importance is a metric that can very by model and statistical variations in the training set. MAE, an indicator of performance, did not change for the RandomForest despite it's feature importances/correlations changing.\n",
    "    "
   ]
  },
  {
   "cell_type": "code",
   "execution_count": 21,
   "id": "considerable-appointment",
   "metadata": {},
   "outputs": [
    {
     "data": {
      "text/html": [
       "<div>\n",
       "<style scoped>\n",
       "    .dataframe tbody tr th:only-of-type {\n",
       "        vertical-align: middle;\n",
       "    }\n",
       "\n",
       "    .dataframe tbody tr th {\n",
       "        vertical-align: top;\n",
       "    }\n",
       "\n",
       "    .dataframe thead tr th {\n",
       "        text-align: left;\n",
       "    }\n",
       "</style>\n",
       "<table border=\"1\" class=\"dataframe\">\n",
       "  <thead>\n",
       "    <tr>\n",
       "      <th></th>\n",
       "      <th colspan=\"2\" halign=\"left\">RF 1</th>\n",
       "      <th colspan=\"2\" halign=\"left\">RF 2</th>\n",
       "    </tr>\n",
       "    <tr>\n",
       "      <th></th>\n",
       "      <th>train_size</th>\n",
       "      <th>mae</th>\n",
       "      <th>train_size</th>\n",
       "      <th>mae</th>\n",
       "    </tr>\n",
       "  </thead>\n",
       "  <tbody>\n",
       "    <tr>\n",
       "      <th>0</th>\n",
       "      <td>10</td>\n",
       "      <td>0.038930</td>\n",
       "      <td>10</td>\n",
       "      <td>0.038930</td>\n",
       "    </tr>\n",
       "    <tr>\n",
       "      <th>1</th>\n",
       "      <td>100</td>\n",
       "      <td>0.042994</td>\n",
       "      <td>100</td>\n",
       "      <td>0.042994</td>\n",
       "    </tr>\n",
       "    <tr>\n",
       "      <th>2</th>\n",
       "      <td>1000</td>\n",
       "      <td>0.040380</td>\n",
       "      <td>1000</td>\n",
       "      <td>0.040380</td>\n",
       "    </tr>\n",
       "    <tr>\n",
       "      <th>3</th>\n",
       "      <td>10000</td>\n",
       "      <td>0.040211</td>\n",
       "      <td>10000</td>\n",
       "      <td>0.040211</td>\n",
       "    </tr>\n",
       "  </tbody>\n",
       "</table>\n",
       "</div>"
      ],
      "text/plain": [
       "        RF 1                 RF 2          \n",
       "  train_size       mae train_size       mae\n",
       "0         10  0.038930         10  0.038930\n",
       "1        100  0.042994        100  0.042994\n",
       "2       1000  0.040380       1000  0.040380\n",
       "3      10000  0.040211      10000  0.040211"
      ]
     },
     "execution_count": 21,
     "metadata": {},
     "output_type": "execute_result"
    }
   ],
   "source": [
    "#Running the RF model a second time -- initializing a new subset data for randomization of train/test data\n",
    "train_data, test_data, train_desc, test_desc = train_test_split(data, desc, random_state=1)\n",
    "train_data = train_data.sample(10000)\n",
    "results3=[]\n",
    "\n",
    "rf.fit(train_desc, train_data['bandgap'])\n",
    "rf_pred=rf.predict(test_desc);\n",
    "results3.append({\n",
    "                'iteration': 2,\n",
    "                'mae': mean_absolute_error(test_data['bandgap'], rf_pred)\n",
    "            })\n",
    "results3 = pd.DataFrame(results)\n",
    "\n",
    "rf_comparison = pd.concat([results2, results3], keys=['RF 1', 'RF 2'], axis=1)\n",
    "rf_comparison"
   ]
  },
  {
   "cell_type": "code",
   "execution_count": 22,
   "id": "colored-astrology",
   "metadata": {},
   "outputs": [
    {
     "name": "stdout",
     "output_type": "stream",
     "text": [
      "0 shared features\n",
      "Largest RF Correlation: 0.90\n",
      "Largest LASSO Correlation: 1.00\n"
     ]
    }
   ],
   "source": [
    "#Re-doing the RF training to check for changes in features/correlation/MAE\n",
    "lasso_feats = np.argsort(no_pca_model_2['lasso'].coef_)\n",
    "rf_feats = np.argsort(rf.feature_importances_)\n",
    "\n",
    "same_feats = set(lasso_feats[-10:]).intersection(rf_feats[-10:]) #Intersection Between the Top Ten Features\n",
    "print(f'{len(same_feats)} shared features')\n",
    "\n",
    "rf_corr = np.abs(np.corrcoef(train_desc.iloc[:, rf_feats[-10:]].T))\n",
    "print(f'Largest RF Correlation: {np.max(np.triu(rf_corr, k=1)):.2f}')\n",
    "\n",
    "lasso_corr = np.abs(np.corrcoef(train_desc.iloc[:, lasso_feats[-10:]].T))\n",
    "print(f'Largest LASSO Correlation: {np.max(np.triu(lasso_corr, k=1)):.2f}')"
   ]
  },
  {
   "cell_type": "markdown",
   "id": "double-scholarship",
   "metadata": {},
   "source": [
    "*Describe what these results mean for interpreting the features of machine learning models:*\n",
    "\n",
    "The importance of certiain features is dependent upon the particular model in use. When interpreting features of machine learning models it is important to keep in mind the process through which the chosen model operates. For example, RandomForest and LassoCV operate with inherently different methods to generate an ML model leading to different feature selections/importance. The Lasso model results in consistent feature selection due to it's ability to penalize uncorrelated data. RandomForest does not posses this feature and is thus susceptible to wild variation in feature importances. This interpretation because further emphasized when including a form of feature selection in addition to the model.\n",
    "\n",
    "However, feature importances are also affected by the training data. Thus, statistical variations in the data seleted for the training set can have a signifigant impact of feature importance and model preditions. Just as we must carefully consider model choice, feature selection, and validation techniques, we must also consider the construction of our training data.\n",
    "\n",
    "---"
   ]
  },
  {
   "cell_type": "markdown",
   "id": "excessive-puzzle",
   "metadata": {},
   "source": [
    "## Q1-3\n",
    "\n",
    "*Discuss the relative **advantages** of RandomForest versus Linear Regression versus Linear Regression with PCA:*\n",
    "\n",
    "Typically, RandomForest outperforms Linear Regression. However, if the data is particularly linear or the dataset has a particularyl large number of features. This latter deficiency is due to the RandomForest attempting to average the results of these multiple different features resulting in underfitted data and high computation expenditure. Furthermore, RandomForest models struggle when tasked with predicting trends that lie outside of the training set. This extrapolation area is one where Linear Regression with PCA exceeds. By reducing the dimensionality of the dataset only to the most relevant correlations, Linear Regression Models with PCA are able to make very accurate extrapolations on linear or nearly-linear data.\n",
    "\n",
    "---"
   ]
  },
  {
   "cell_type": "markdown",
   "id": "dedicated-accreditation",
   "metadata": {},
   "source": [
    "Create a training set of **1000 entries**. Train a **k-Nearest Neighbors (kNN) regressor model** using a Jaccard distance metric based on **128-length Morgan fingerprint** with a **radius of 3**"
   ]
  },
  {
   "cell_type": "code",
   "execution_count": 23,
   "id": "physical-ordinance",
   "metadata": {},
   "outputs": [],
   "source": [
    "def compute_morgan_fingerprints(smiles: str, fingerprint_length: int, fingerprint_radius: int):\n",
    "    \"\"\"Get Morgan Fingerprint of a specific SMILES string.\n",
    "    Adapted from: <https://github.com/google-research/google-research/blob/\n",
    "    dfac4178ccf521e8d6eae45f7b0a33a6a5b691ee/mol_dqn/chemgraph/dqn/deep_q_networks.py#L750>\n",
    "    Args:\n",
    "      graph (str): The molecule as a SMILES\n",
    "      string\n",
    "      fingerprint_length (int): Bit-length of fingerprint\n",
    "      fingerprint_radius (int): Radius used to compute fingerprint\n",
    "    Returns:\n",
    "      np.array. shape = [hparams, fingerprint_length]. The Morgan fingerprint.\n",
    "    \"\"\"\n",
    "    # Parse the molecule\n",
    "    molecule = Chem.MolFromSmiles(smiles)\n",
    "\n",
    "    # Compute the fingerprint\n",
    "    fingerprint = AllChem.GetMorganFingerprintAsBitVect(\n",
    "        molecule, fingerprint_radius, fingerprint_length)\n",
    "    arr = np.zeros((1,), dtype=np.bool)\n",
    "\n",
    "    # ConvertToNumpyArray takes ~ 0.19 ms, while\n",
    "    # np.asarray takes ~ 4.69 ms\n",
    "    DataStructs.ConvertToNumpyArray(fingerprint, arr)\n",
    "    return arr"
   ]
  },
  {
   "cell_type": "code",
   "execution_count": 24,
   "id": "infectious-estate",
   "metadata": {},
   "outputs": [],
   "source": [
    "class MorganFingerprintTransformer(BaseEstimator, TransformerMixin):\n",
    "    \"\"\"Class that converts SMILES strings to fingerprint vectors\"\"\"\n",
    "    \n",
    "    def __init__(self, length: int = 256, radius: int = 4):\n",
    "        self.length = length\n",
    "        self.radius = radius\n",
    "    \n",
    "    def fit(self, X, y=None):\n",
    "        return self  # Do need to do anything\n",
    "    \n",
    "    def transform(self, X, y=None):\n",
    "        \"\"\"Compute the fingerprints\n",
    "        \n",
    "        Args:\n",
    "            X: List of SMILES strings\n",
    "        Returns:\n",
    "            Array of fingerprints\n",
    "        \"\"\"\n",
    "        \n",
    "        fing = [compute_morgan_fingerprints(m, self.length, self.radius) for m in X]\n",
    "        return np.vstack(fing)\n",
    "m = MorganFingerprintTransformer(4, 4)"
   ]
  },
  {
   "cell_type": "code",
   "execution_count": 25,
   "id": "prospective-deadline",
   "metadata": {},
   "outputs": [
    {
     "data": {
      "text/plain": [
       "Pipeline(steps=[('fingerprint',\n",
       "                 MorganFingerprintTransformer(length=128, radius=3)),\n",
       "                ('knn',\n",
       "                 KNeighborsRegressor(metric='jaccard', n_jobs=-1,\n",
       "                                     n_neighbors=3))])"
      ]
     },
     "execution_count": 25,
     "metadata": {},
     "output_type": "execute_result"
    }
   ],
   "source": [
    "#MOLECULAR FINGERPRINTS\n",
    "train_data, test_data = train_test_split(data, test_size=2000) \n",
    "mf_train_data = train_data.sample(1000) #Creates training set of 1000\n",
    "mf_test_data = test_data\n",
    "#Train a k-Nearest Neighbors (kNN) regressor model\n",
    "#using a Jaccard distance metric\n",
    "#based on 128-length Morgan fingerprint with a radius of 3\n",
    "m = MorganFingerprintTransformer(length=128, radius=3)\n",
    "test_fng = m.transform(mf_test_data['smiles_0'])\n",
    "train_fng = m.transform(mf_train_data['smiles_0'])\n",
    "\n",
    "mf_model = Pipeline([\n",
    "    ('fingerprint', m),\n",
    "    ('knn', KNeighborsRegressor(n_neighbors=3, metric='jaccard', n_jobs=-1))  # n_jobs = -1 lets the model run all available processors\n",
    "])\n",
    "\n",
    "mf_model.fit(mf_train_data['smiles_0'], mf_train_data['bandgap'])"
   ]
  },
  {
   "cell_type": "markdown",
   "id": "binary-modem",
   "metadata": {},
   "source": [
    "**Plot** how the performance on the model on a test set of **2000 entries** changes as you increase the number of neighbors used in kNN from **1 to 2<sup>7</sup>**"
   ]
  },
  {
   "cell_type": "code",
   "execution_count": 26,
   "id": "cordless-nicaragua",
   "metadata": {},
   "outputs": [
    {
     "name": "stderr",
     "output_type": "stream",
     "text": [
      "100%|████████████████████████████████████████████████████████████████████████████████| 128/128 [01:53<00:00,  1.13it/s]\n"
     ]
    }
   ],
   "source": [
    "#Training KNN Model with n_neighbors parameter control\n",
    "#Creates test set of 2000\n",
    "mf_results = []\n",
    "for n in tqdm(range(1,2**7+1)): #iterate over n_neighbors\n",
    "            mf_model.set_params(knn__n_neighbors=n)\n",
    "\n",
    "            # Train and test the model\n",
    "            mf_model.fit(mf_train_data['smiles_0'], mf_train_data['bandgap'])\n",
    "            mf_y_pred = mf_model.predict(mf_test_data['smiles_0'])\n",
    "\n",
    "            # Store the results\n",
    "            #  Use a list of dictionaries\n",
    "            mf_results.append({\n",
    "                'n_neighbors': n,\n",
    "                'train_size': 2000,\n",
    "                #'iteration': i,\n",
    "                'r2_score': r2_score(mf_test_data['bandgap'], mf_y_pred),\n",
    "                'mae': mean_absolute_error(mf_test_data['bandgap'], mf_y_pred)\n",
    "            })\n",
    "mf_results = pd.DataFrame(mf_results)  # Converts to a dataframe"
   ]
  },
  {
   "cell_type": "code",
   "execution_count": 30,
   "id": "accomplished-netherlands",
   "metadata": {},
   "outputs": [
    {
     "data": {
      "text/plain": [
       "Text(0, 0.5, 'MAE')"
      ]
     },
     "execution_count": 30,
     "metadata": {},
     "output_type": "execute_result"
    },
    {
     "data": {
      "image/png": "[encoded data removed]",
      "text/plain": [
       "<Figure size 432x288 with 1 Axes>"
      ]
     },
     "metadata": {
      "needs_background": "light"
     },
     "output_type": "display_data"
    }
   ],
   "source": [
    "fig, ax = plt.subplots()\n",
    "    \n",
    "    \n",
    "ax.loglog(mf_results['n_neighbors'], mf_results['mae'])\n",
    "    \n",
    "ax.set_title('KNN Fingerprints: n Nearest Neighbors vs. MAE')\n",
    "ax.text(1, 2*(10**-2), 'Train Size: 2000 Molecules')\n",
    "    \n",
    "\n",
    "ax.set_xlabel('n Nearest Neighbors')\n",
    "ax.set_ylabel('MAE')"
   ]
  },
  {
   "cell_type": "markdown",
   "id": "apparent-murder",
   "metadata": {},
   "source": [
    "## Q2-1\n",
    "\n",
    "*Explain why the MAE improves when increasing from 1 and then worsens as you increase past 2<sup>4</sup>*\n",
    "\n",
    "When the n neighbors is set too low the data is overfitted as too many nearest neighbors are being used by the model to calculate a prediction. After we surpass 2<sup>4</sup> nearest neighbors, the KNN model makes the predicted data too smooth thus leading to underfitting.\n",
    "\n",
    "---"
   ]
  },
  {
   "cell_type": "markdown",
   "id": "prostate-protest",
   "metadata": {},
   "source": [
    "Add a step in the model Pipeline from Step 1 that uses **Recursive Feature Elimination** with a **Random Forest model** to reduce the number of **features to 32** in 4 steps"
   ]
  },
  {
   "cell_type": "code",
   "execution_count": 28,
   "id": "creative-feedback",
   "metadata": {
    "scrolled": true
   },
   "outputs": [
    {
     "name": "stderr",
     "output_type": "stream",
     "text": [
      "100%|████████████████████████████████████████████████████████████████████████████████████| 8/8 [09:07<00:00, 68.38s/it]\n"
     ]
    }
   ],
   "source": [
    "#Retraining KNN with RFE\n",
    "mf_train_data, mf_test_data = train_test_split(data, test_size=0.92)\n",
    "mf_model2 = Pipeline([\n",
    "    ('fingerprint', MorganFingerprintTransformer()),\n",
    "    ('rfe', RFE(estimator=RandomForestRegressor(random_state = 0, n_jobs=-1), n_features_to_select=32, step=4)),\n",
    "    ('knn', KNeighborsRegressor(metric='jaccard', n_jobs=-1))\n",
    "    \n",
    "])\n",
    "\n",
    "mf_results2 = []\n",
    "\n",
    "for i in tqdm(range(0,8)):\n",
    "            n=(2**i)\n",
    "            mf_model2.set_params(knn__n_neighbors=n)\n",
    " \n",
    "            # Train and test the model\n",
    "            mf_model2.fit(mf_train_data['smiles_0'], mf_train_data['bandgap'])\n",
    "            mf_y_pred = mf_model2.predict(mf_test_data['smiles_0'])\n",
    "\n",
    "            # Store the results\n",
    "            #  Use a list of dictionaries, which I can convert to \n",
    "            #  a DataFrame very easily\n",
    "            mf_results2.append({\n",
    "                'n_neighbors': n,\n",
    "                'train_size': 2000,\n",
    "                'r2_score': r2_score(mf_test_data['bandgap'], mf_y_pred),\n",
    "                'mae': mean_absolute_error(mf_test_data['bandgap'], mf_y_pred)\n",
    "            })\n",
    "            \n",
    "mf_results2 = pd.DataFrame(mf_results2)  # Converts to a dataframe"
   ]
  },
  {
   "cell_type": "markdown",
   "id": "accepting-treasury",
   "metadata": {},
   "source": [
    "Compare the **MAE** versus **number of neighbors** to kNN without feature selection"
   ]
  },
  {
   "cell_type": "code",
   "execution_count": 31,
   "id": "domestic-might",
   "metadata": {},
   "outputs": [
    {
     "data": {
      "text/plain": [
       "Text(0, 0.5, 'MAE')"
      ]
     },
     "execution_count": 31,
     "metadata": {},
     "output_type": "execute_result"
    },
    {
     "data": {
      "image/png": "[encoded data removed]",
      "text/plain": [
       "<Figure size 432x288 with 1 Axes>"
      ]
     },
     "metadata": {
      "needs_background": "light"
     },
     "output_type": "display_data"
    }
   ],
   "source": [
    "fig, ax = plt.subplots()\n",
    "    \n",
    "    \n",
    "ax.loglog(mf_results2['n_neighbors'], mf_results2['mae'])\n",
    "    \n",
    "ax.set_title('KNN Fingerprints: n Nearest Neighbors vs. MAE')\n",
    "ax.text(1, 2*(10**-2), 'Train Size: 2000 Molecules')\n",
    "    \n",
    "\n",
    "ax.set_xlabel('n Nearest Neighbors')\n",
    "ax.set_ylabel('MAE')"
   ]
  },
  {
   "cell_type": "markdown",
   "id": "recent-salmon",
   "metadata": {},
   "source": [
    "## Q2-3\n",
    "\n",
    "*Why would the model with the feature selection perform better? In general terms, explain the disadvantage of using a general-purpose distance metrics such as fingerprints and how must one must account for that.*\n",
    "\n",
    "General purpose distance are very susceptible to outlier datapoints which will fold errors into the classifications of the models. In order to account for this, we use feature selection to reduce the dataset only to points that will contribute to enforcing the model's trends/classifications."
   ]
  }
 ],
 "metadata": {
  "kernelspec": {
   "display_name": "Python 3",
   "language": "python",
   "name": "python3"
  },
  "language_info": {
   "codemirror_mode": {
    "name": "ipython",
    "version": 3
   },
   "file_extension": ".py",
   "mimetype": "text/x-python",
   "name": "python",
   "nbconvert_exporter": "python",
   "pygments_lexer": "ipython3",
   "version": "3.7.10"
  }
 },
 "nbformat": 4,
 "nbformat_minor": 5
}
